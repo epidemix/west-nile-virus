{
 "cells": [
  {
   "cell_type": "markdown",
   "metadata": {},
   "source": [
    "Weighted proportion of individuals by county.\n",
    "\n",
    "Model number of mosquitos\n",
    "\n",
    "1 in 5 have a fever.\n",
    "\n",
    "1 in 150 are hospitalized.\n",
    "\n",
    "Probability someone dies.\n",
    "\n",
    "Population\n",
    "\n",
    "Cost per spray (sq_mile)\n",
    "\n",
    "cost per zip code\n",
    "\n",
    "\n",
    "$21,000 for medical care\n",
    "\n",
    "$5,200/sq. mile spray cost"
   ]
  },
  {
   "cell_type": "code",
   "execution_count": 1,
   "metadata": {},
   "outputs": [
    {
     "name": "stderr",
     "output_type": "stream",
     "text": [
      "/usr/local/Cellar/python3/3.6.3/Frameworks/Python.framework/Versions/3.6/lib/python3.6/importlib/_bootstrap.py:219: ImportWarning: can't resolve package from __spec__ or __package__, falling back on __name__ and __path__\n",
      "  return f(*args, **kwds)\n"
     ]
    }
   ],
   "source": [
    "import pandas as pd\n",
    "pd.options.display.max_columns = None"
   ]
  },
  {
   "cell_type": "code",
   "execution_count": 2,
   "metadata": {},
   "outputs": [
    {
     "name": "stdout",
     "output_type": "stream",
     "text": [
      "WNV_Pop_Age.csv              prediction_probabilities.csv\r\n",
      "WNV_Pop_Age_Temp.csv         processed_test.csv\r\n",
      "\u001b[34m__pycache__\u001b[m\u001b[m                  processed_train.csv\r\n",
      "census_age.csv               sampleSubmission.csv\r\n",
      "census_info.csv              spray.csv\r\n",
      "data-clean.ipynb             spray_traps.csv\r\n",
      "demographics.csv             test.csv\r\n",
      "distance-mapping.ipynb       train.csv\r\n",
      "kaggle_submission.csv        weather.csv\r\n",
      "model_data.csv               zip_codes.csv\r\n"
     ]
    }
   ],
   "source": [
    "! ls ../data"
   ]
  },
  {
   "cell_type": "code",
   "execution_count": 3,
   "metadata": {},
   "outputs": [],
   "source": [
    "info = pd.read_csv('../data/census_info.csv').drop(['Unnamed: 0', 'GEO.id', 'GEO.display-label'], axis=1)\n",
    "age = pd.read_csv('../data/census_age.csv').drop(['Unnamed: 0', 'GEO.id', 'GEO.display-label'], axis=1)"
   ]
  },
  {
   "cell_type": "code",
   "execution_count": 4,
   "metadata": {},
   "outputs": [],
   "source": [
    "df = info.merge(age, on='zip_code', how='left')"
   ]
  },
  {
   "cell_type": "code",
   "execution_count": 5,
   "metadata": {},
   "outputs": [],
   "source": [
    "import numpy as np\n",
    "df = df.replace(['-', 'N'], np.NaN)\n",
    "df = df.apply(np.float32)\n",
    "df['zip_code'] = df['zip_code'].apply(np.int32)"
   ]
  },
  {
   "cell_type": "code",
   "execution_count": 6,
   "metadata": {},
   "outputs": [
    {
     "data": {
      "text/plain": [
       "zip_code                     int64\n",
       "poulation                  float32\n",
       "percent_employed           float32\n",
       "inc_<10k                   float32\n",
       "inc_10-15k                 float32\n",
       "inc_15-25k                 float32\n",
       "median_inc                 float32\n",
       "mean_inc                   float32\n",
       "percent_no_health          float32\n",
       "percent_public_health      float32\n",
       "total_population           float32\n",
       "percent_age_under_5        float32\n",
       "percent_age_5-9            float32\n",
       "percent_age_10-14          float32\n",
       "percent_age_15-19          float32\n",
       "percent_age_20-24          float32\n",
       "percent_age_25-34          float32\n",
       "percent_age_35-44          float32\n",
       "percent_age_45-54          float32\n",
       "percent_age_55-59          float32\n",
       "percent_age_60-64          float32\n",
       "percent_age_65-74          float32\n",
       "percent_age_75-84          float32\n",
       "percent_age85_and_over     float32\n",
       "percent_age_65_and_over    float32\n",
       "median_age                 float32\n",
       "dtype: object"
      ]
     },
     "execution_count": 6,
     "metadata": {},
     "output_type": "execute_result"
    }
   ],
   "source": [
    "df.dtypes"
   ]
  },
  {
   "cell_type": "code",
   "execution_count": 7,
   "metadata": {},
   "outputs": [],
   "source": [
    "df['population_porportion'] = df['total_population'] / df['total_population'].values.sum()\n",
    "df['percent_age_over_65'] = df['percent_age_65-74'] + df['percent_age_75-84'] + df['percent_age85_and_over']\n",
    "\n",
    "df['percent_age_under_14'] = df['percent_age_under_5'] + df['percent_age_5-9'] + df['percent_age_10-14']\n",
    "\n",
    "\n",
    "df['percent_low_income'] = df['inc_<10k'] + df['inc_10-15k']\n"
   ]
  },
  {
   "cell_type": "code",
   "execution_count": 8,
   "metadata": {},
   "outputs": [
    {
     "data": {
      "text/html": [
       "<div>\n",
       "<style scoped>\n",
       "    .dataframe tbody tr th:only-of-type {\n",
       "        vertical-align: middle;\n",
       "    }\n",
       "\n",
       "    .dataframe tbody tr th {\n",
       "        vertical-align: top;\n",
       "    }\n",
       "\n",
       "    .dataframe thead th {\n",
       "        text-align: right;\n",
       "    }\n",
       "</style>\n",
       "<table border=\"1\" class=\"dataframe\">\n",
       "  <thead>\n",
       "    <tr style=\"text-align: right;\">\n",
       "      <th></th>\n",
       "      <th>zip_code</th>\n",
       "      <th>poulation</th>\n",
       "      <th>percent_employed</th>\n",
       "      <th>inc_&lt;10k</th>\n",
       "      <th>inc_10-15k</th>\n",
       "      <th>inc_15-25k</th>\n",
       "      <th>median_inc</th>\n",
       "      <th>mean_inc</th>\n",
       "      <th>percent_no_health</th>\n",
       "      <th>percent_public_health</th>\n",
       "      <th>total_population</th>\n",
       "      <th>percent_age_under_5</th>\n",
       "      <th>percent_age_5-9</th>\n",
       "      <th>percent_age_10-14</th>\n",
       "      <th>percent_age_15-19</th>\n",
       "      <th>percent_age_20-24</th>\n",
       "      <th>percent_age_25-34</th>\n",
       "      <th>percent_age_35-44</th>\n",
       "      <th>percent_age_45-54</th>\n",
       "      <th>percent_age_55-59</th>\n",
       "      <th>percent_age_60-64</th>\n",
       "      <th>percent_age_65-74</th>\n",
       "      <th>percent_age_75-84</th>\n",
       "      <th>percent_age85_and_over</th>\n",
       "      <th>percent_age_65_and_over</th>\n",
       "      <th>median_age</th>\n",
       "      <th>population_porportion</th>\n",
       "      <th>percent_age_over_65</th>\n",
       "      <th>percent_age_under_14</th>\n",
       "      <th>percent_low_income</th>\n",
       "    </tr>\n",
       "  </thead>\n",
       "  <tbody>\n",
       "    <tr>\n",
       "      <th>0</th>\n",
       "      <td>60002</td>\n",
       "      <td>19113.0</td>\n",
       "      <td>69.5</td>\n",
       "      <td>5.5</td>\n",
       "      <td>3.2</td>\n",
       "      <td>5.6</td>\n",
       "      <td>78250.0</td>\n",
       "      <td>88649.0</td>\n",
       "      <td>9.4</td>\n",
       "      <td>22.4</td>\n",
       "      <td>24250.0</td>\n",
       "      <td>5.7</td>\n",
       "      <td>7.2</td>\n",
       "      <td>6.4</td>\n",
       "      <td>7.9</td>\n",
       "      <td>4.7</td>\n",
       "      <td>9.9</td>\n",
       "      <td>14.2</td>\n",
       "      <td>17.299999</td>\n",
       "      <td>8.1</td>\n",
       "      <td>6.5</td>\n",
       "      <td>8.2</td>\n",
       "      <td>2.8</td>\n",
       "      <td>1.0</td>\n",
       "      <td>12.0</td>\n",
       "      <td>41.200001</td>\n",
       "      <td>0.001887</td>\n",
       "      <td>12.0</td>\n",
       "      <td>19.299999</td>\n",
       "      <td>8.7</td>\n",
       "    </tr>\n",
       "  </tbody>\n",
       "</table>\n",
       "</div>"
      ],
      "text/plain": [
       "   zip_code  poulation  percent_employed  inc_<10k  inc_10-15k  inc_15-25k  \\\n",
       "0     60002    19113.0              69.5       5.5         3.2         5.6   \n",
       "\n",
       "   median_inc  mean_inc  percent_no_health  percent_public_health  \\\n",
       "0     78250.0   88649.0                9.4                   22.4   \n",
       "\n",
       "   total_population  percent_age_under_5  percent_age_5-9  percent_age_10-14  \\\n",
       "0           24250.0                  5.7              7.2                6.4   \n",
       "\n",
       "   percent_age_15-19  percent_age_20-24  percent_age_25-34  percent_age_35-44  \\\n",
       "0                7.9                4.7                9.9               14.2   \n",
       "\n",
       "   percent_age_45-54  percent_age_55-59  percent_age_60-64  percent_age_65-74  \\\n",
       "0          17.299999                8.1                6.5                8.2   \n",
       "\n",
       "   percent_age_75-84  percent_age85_and_over  percent_age_65_and_over  \\\n",
       "0                2.8                     1.0                     12.0   \n",
       "\n",
       "   median_age  population_porportion  percent_age_over_65  \\\n",
       "0   41.200001               0.001887                 12.0   \n",
       "\n",
       "   percent_age_under_14  percent_low_income  \n",
       "0             19.299999                 8.7  "
      ]
     },
     "execution_count": 8,
     "metadata": {},
     "output_type": "execute_result"
    }
   ],
   "source": [
    "df.head(1)\n"
   ]
  },
  {
   "cell_type": "code",
   "execution_count": 9,
   "metadata": {},
   "outputs": [],
   "source": [
    "df_out = df[['zip_code', 'percent_employed','percent_no_health',\n",
    "             'percent_public_health','total_population', 'population_porportion',\n",
    "             'percent_age_over_65','percent_age_under_14', 'percent_low_income']]\n"
   ]
  },
  {
   "cell_type": "code",
   "execution_count": 10,
   "metadata": {},
   "outputs": [
    {
     "data": {
      "text/html": [
       "<div>\n",
       "<style scoped>\n",
       "    .dataframe tbody tr th:only-of-type {\n",
       "        vertical-align: middle;\n",
       "    }\n",
       "\n",
       "    .dataframe tbody tr th {\n",
       "        vertical-align: top;\n",
       "    }\n",
       "\n",
       "    .dataframe thead th {\n",
       "        text-align: right;\n",
       "    }\n",
       "</style>\n",
       "<table border=\"1\" class=\"dataframe\">\n",
       "  <thead>\n",
       "    <tr style=\"text-align: right;\">\n",
       "      <th></th>\n",
       "      <th>zip_code</th>\n",
       "      <th>percent_employed</th>\n",
       "      <th>percent_no_health</th>\n",
       "      <th>percent_public_health</th>\n",
       "      <th>total_population</th>\n",
       "      <th>population_porportion</th>\n",
       "      <th>percent_age_over_65</th>\n",
       "      <th>percent_age_under_14</th>\n",
       "      <th>percent_low_income</th>\n",
       "    </tr>\n",
       "  </thead>\n",
       "  <tbody>\n",
       "    <tr>\n",
       "      <th>0</th>\n",
       "      <td>60002</td>\n",
       "      <td>69.5</td>\n",
       "      <td>9.4</td>\n",
       "      <td>22.4</td>\n",
       "      <td>24250.0</td>\n",
       "      <td>0.001887</td>\n",
       "      <td>12.0</td>\n",
       "      <td>19.299999</td>\n",
       "      <td>8.7</td>\n",
       "    </tr>\n",
       "  </tbody>\n",
       "</table>\n",
       "</div>"
      ],
      "text/plain": [
       "   zip_code  percent_employed  percent_no_health  percent_public_health  \\\n",
       "0     60002              69.5                9.4                   22.4   \n",
       "\n",
       "   total_population  population_porportion  percent_age_over_65  \\\n",
       "0           24250.0               0.001887                 12.0   \n",
       "\n",
       "   percent_age_under_14  percent_low_income  \n",
       "0             19.299999                 8.7  "
      ]
     },
     "execution_count": 10,
     "metadata": {},
     "output_type": "execute_result"
    }
   ],
   "source": [
    "df_out.head(1)"
   ]
  },
  {
   "cell_type": "code",
   "execution_count": 11,
   "metadata": {},
   "outputs": [],
   "source": [
    "df_out.to_csv('../data/demographics.csv')"
   ]
  },
  {
   "cell_type": "code",
   "execution_count": 12,
   "metadata": {},
   "outputs": [
    {
     "name": "stdout",
     "output_type": "stream",
     "text": [
      "WNV_Pop_Age.csv              prediction_probabilities.csv\r\n",
      "WNV_Pop_Age_Temp.csv         processed_test.csv\r\n",
      "\u001b[34m__pycache__\u001b[m\u001b[m                  processed_train.csv\r\n",
      "census_age.csv               sampleSubmission.csv\r\n",
      "census_info.csv              spray.csv\r\n",
      "data-clean.ipynb             spray_traps.csv\r\n",
      "demographics.csv             test.csv\r\n",
      "distance-mapping.ipynb       train.csv\r\n",
      "kaggle_submission.csv        weather.csv\r\n",
      "model_data.csv               zip_codes.csv\r\n"
     ]
    }
   ],
   "source": [
    "! ls ../data"
   ]
  },
  {
   "cell_type": "code",
   "execution_count": 13,
   "metadata": {},
   "outputs": [],
   "source": [
    "wnv_age = pd.read_csv('../data/WNV_Pop_Age.csv').rename(columns={'ZipCode': 'zip_code'}).drop('Unnamed: 0', axis=1)\n"
   ]
  },
  {
   "cell_type": "code",
   "execution_count": 14,
   "metadata": {},
   "outputs": [
    {
     "data": {
      "text/html": [
       "<div>\n",
       "<style scoped>\n",
       "    .dataframe tbody tr th:only-of-type {\n",
       "        vertical-align: middle;\n",
       "    }\n",
       "\n",
       "    .dataframe tbody tr th {\n",
       "        vertical-align: top;\n",
       "    }\n",
       "\n",
       "    .dataframe thead th {\n",
       "        text-align: right;\n",
       "    }\n",
       "</style>\n",
       "<table border=\"1\" class=\"dataframe\">\n",
       "  <thead>\n",
       "    <tr style=\"text-align: right;\">\n",
       "      <th></th>\n",
       "      <th>Date</th>\n",
       "      <th>Address</th>\n",
       "      <th>Species</th>\n",
       "      <th>Block</th>\n",
       "      <th>Street</th>\n",
       "      <th>Trap</th>\n",
       "      <th>AddressNumberAndStreet</th>\n",
       "      <th>Latitude</th>\n",
       "      <th>Longitude</th>\n",
       "      <th>AddressAccuracy</th>\n",
       "      <th>NumMosquitos</th>\n",
       "      <th>WnvPresent</th>\n",
       "      <th>zip_code</th>\n",
       "      <th>poulation</th>\n",
       "      <th>percent_employed</th>\n",
       "      <th>inc_&lt;10k</th>\n",
       "      <th>inc_10-15k</th>\n",
       "      <th>inc_15-25k</th>\n",
       "      <th>median_inc</th>\n",
       "      <th>mean_inc</th>\n",
       "      <th>percent_no_health</th>\n",
       "      <th>percent_public_health</th>\n",
       "      <th>total_population</th>\n",
       "      <th>percent_age_under_5</th>\n",
       "      <th>percent_age_5-9</th>\n",
       "      <th>percent_age_10-14</th>\n",
       "      <th>percent_age_15-19</th>\n",
       "      <th>percent_age_20-24</th>\n",
       "      <th>percent_age_25-34</th>\n",
       "      <th>percent_age_35-44</th>\n",
       "      <th>percent_age_45-54</th>\n",
       "      <th>percent_age_55-59</th>\n",
       "      <th>percent_age_60-64</th>\n",
       "      <th>percent_age_65-74</th>\n",
       "      <th>percent_age_75-84</th>\n",
       "      <th>percent_age85_and_over</th>\n",
       "      <th>percent_age_65_and_over</th>\n",
       "      <th>median_age</th>\n",
       "    </tr>\n",
       "  </thead>\n",
       "  <tbody>\n",
       "    <tr>\n",
       "      <th>0</th>\n",
       "      <td>2007-05-29</td>\n",
       "      <td>4100 North Oak Park Avenue, Chicago, IL 60634,...</td>\n",
       "      <td>CULEX PIPIENS/RESTUANS</td>\n",
       "      <td>41</td>\n",
       "      <td>N OAK PARK AVE</td>\n",
       "      <td>T002</td>\n",
       "      <td>4100  N OAK PARK AVE, Chicago, IL</td>\n",
       "      <td>41.95469</td>\n",
       "      <td>-87.800991</td>\n",
       "      <td>9</td>\n",
       "      <td>1</td>\n",
       "      <td>0</td>\n",
       "      <td>60634</td>\n",
       "      <td>59366.0</td>\n",
       "      <td>68.0</td>\n",
       "      <td>6.4</td>\n",
       "      <td>4.1</td>\n",
       "      <td>10.1</td>\n",
       "      <td>55767.0</td>\n",
       "      <td>66516.0</td>\n",
       "      <td>21.9</td>\n",
       "      <td>29.9</td>\n",
       "      <td>72718.0</td>\n",
       "      <td>6.1</td>\n",
       "      <td>5.8</td>\n",
       "      <td>5.3</td>\n",
       "      <td>6.0</td>\n",
       "      <td>6.1</td>\n",
       "      <td>16.4</td>\n",
       "      <td>13.1</td>\n",
       "      <td>14.2</td>\n",
       "      <td>7.6</td>\n",
       "      <td>6.6</td>\n",
       "      <td>6.7</td>\n",
       "      <td>4.2</td>\n",
       "      <td>1.9</td>\n",
       "      <td>12.8</td>\n",
       "      <td>38.9</td>\n",
       "    </tr>\n",
       "  </tbody>\n",
       "</table>\n",
       "</div>"
      ],
      "text/plain": [
       "         Date                                            Address  \\\n",
       "0  2007-05-29  4100 North Oak Park Avenue, Chicago, IL 60634,...   \n",
       "\n",
       "                  Species  Block           Street  Trap  \\\n",
       "0  CULEX PIPIENS/RESTUANS     41   N OAK PARK AVE  T002   \n",
       "\n",
       "              AddressNumberAndStreet  Latitude  Longitude  AddressAccuracy  \\\n",
       "0  4100  N OAK PARK AVE, Chicago, IL  41.95469 -87.800991                9   \n",
       "\n",
       "   NumMosquitos  WnvPresent  zip_code  poulation  percent_employed  inc_<10k  \\\n",
       "0             1           0     60634    59366.0              68.0       6.4   \n",
       "\n",
       "   inc_10-15k  inc_15-25k  median_inc  mean_inc  percent_no_health  \\\n",
       "0         4.1        10.1     55767.0   66516.0               21.9   \n",
       "\n",
       "   percent_public_health  total_population  percent_age_under_5  \\\n",
       "0                   29.9           72718.0                  6.1   \n",
       "\n",
       "   percent_age_5-9  percent_age_10-14  percent_age_15-19  percent_age_20-24  \\\n",
       "0              5.8                5.3                6.0                6.1   \n",
       "\n",
       "   percent_age_25-34  percent_age_35-44  percent_age_45-54  percent_age_55-59  \\\n",
       "0               16.4               13.1               14.2                7.6   \n",
       "\n",
       "   percent_age_60-64  percent_age_65-74  percent_age_75-84  \\\n",
       "0                6.6                6.7                4.2   \n",
       "\n",
       "   percent_age85_and_over  percent_age_65_and_over  median_age  \n",
       "0                     1.9                     12.8        38.9  "
      ]
     },
     "execution_count": 14,
     "metadata": {},
     "output_type": "execute_result"
    }
   ],
   "source": [
    "wnv_age.head(1)"
   ]
  },
  {
   "cell_type": "code",
   "execution_count": 15,
   "metadata": {},
   "outputs": [
    {
     "data": {
      "text/plain": [
       "(10506, 38)"
      ]
     },
     "execution_count": 15,
     "metadata": {},
     "output_type": "execute_result"
    }
   ],
   "source": [
    "wnv_age.shape"
   ]
  },
  {
   "cell_type": "code",
   "execution_count": 16,
   "metadata": {},
   "outputs": [],
   "source": [
    "df_out = wnv_age.merge(df_out, on=['zip_code'])"
   ]
  },
  {
   "cell_type": "code",
   "execution_count": 17,
   "metadata": {},
   "outputs": [
    {
     "ename": "ValueError",
     "evalue": "labels ['Address' 'Block' 'Street' 'AddressNumberAndStreet' 'AddressAccuracy'] not contained in axis",
     "output_type": "error",
     "traceback": [
      "\u001b[0;31m---------------------------------------------------------------------------\u001b[0m",
      "\u001b[0;31mValueError\u001b[0m                                Traceback (most recent call last)",
      "\u001b[0;32m<ipython-input-17-b2e1ae6528ab>\u001b[0m in \u001b[0;36m<module>\u001b[0;34m()\u001b[0m\n\u001b[0;32m----> 1\u001b[0;31m \u001b[0mdf_out\u001b[0m\u001b[0;34m.\u001b[0m\u001b[0mdrop\u001b[0m\u001b[0;34m(\u001b[0m\u001b[0;34m[\u001b[0m\u001b[0;34m'Address'\u001b[0m\u001b[0;34m,\u001b[0m \u001b[0;34m'Block'\u001b[0m\u001b[0;34m,\u001b[0m \u001b[0;34m'Street'\u001b[0m\u001b[0;34m,\u001b[0m \u001b[0;34m'AddressNumberAndStreet'\u001b[0m\u001b[0;34m,\u001b[0m \u001b[0;34m'AddressAccuracy'\u001b[0m\u001b[0;34m]\u001b[0m\u001b[0;34m)\u001b[0m\u001b[0;34m\u001b[0m\u001b[0m\n\u001b[0m",
      "\u001b[0;32m/usr/local/lib/python3.6/site-packages/pandas/core/generic.py\u001b[0m in \u001b[0;36mdrop\u001b[0;34m(self, labels, axis, index, columns, level, inplace, errors)\u001b[0m\n\u001b[1;32m   2528\u001b[0m         \u001b[0;32mfor\u001b[0m \u001b[0maxis\u001b[0m\u001b[0;34m,\u001b[0m \u001b[0mlabels\u001b[0m \u001b[0;32min\u001b[0m \u001b[0maxes\u001b[0m\u001b[0;34m.\u001b[0m\u001b[0mitems\u001b[0m\u001b[0;34m(\u001b[0m\u001b[0;34m)\u001b[0m\u001b[0;34m:\u001b[0m\u001b[0;34m\u001b[0m\u001b[0m\n\u001b[1;32m   2529\u001b[0m             \u001b[0;32mif\u001b[0m \u001b[0mlabels\u001b[0m \u001b[0;32mis\u001b[0m \u001b[0;32mnot\u001b[0m \u001b[0;32mNone\u001b[0m\u001b[0;34m:\u001b[0m\u001b[0;34m\u001b[0m\u001b[0m\n\u001b[0;32m-> 2530\u001b[0;31m                 \u001b[0mobj\u001b[0m \u001b[0;34m=\u001b[0m \u001b[0mobj\u001b[0m\u001b[0;34m.\u001b[0m\u001b[0m_drop_axis\u001b[0m\u001b[0;34m(\u001b[0m\u001b[0mlabels\u001b[0m\u001b[0;34m,\u001b[0m \u001b[0maxis\u001b[0m\u001b[0;34m,\u001b[0m \u001b[0mlevel\u001b[0m\u001b[0;34m=\u001b[0m\u001b[0mlevel\u001b[0m\u001b[0;34m,\u001b[0m \u001b[0merrors\u001b[0m\u001b[0;34m=\u001b[0m\u001b[0merrors\u001b[0m\u001b[0;34m)\u001b[0m\u001b[0;34m\u001b[0m\u001b[0m\n\u001b[0m\u001b[1;32m   2531\u001b[0m \u001b[0;34m\u001b[0m\u001b[0m\n\u001b[1;32m   2532\u001b[0m         \u001b[0;32mif\u001b[0m \u001b[0minplace\u001b[0m\u001b[0;34m:\u001b[0m\u001b[0;34m\u001b[0m\u001b[0m\n",
      "\u001b[0;32m/usr/local/lib/python3.6/site-packages/pandas/core/generic.py\u001b[0m in \u001b[0;36m_drop_axis\u001b[0;34m(self, labels, axis, level, errors)\u001b[0m\n\u001b[1;32m   2560\u001b[0m                 \u001b[0mnew_axis\u001b[0m \u001b[0;34m=\u001b[0m \u001b[0maxis\u001b[0m\u001b[0;34m.\u001b[0m\u001b[0mdrop\u001b[0m\u001b[0;34m(\u001b[0m\u001b[0mlabels\u001b[0m\u001b[0;34m,\u001b[0m \u001b[0mlevel\u001b[0m\u001b[0;34m=\u001b[0m\u001b[0mlevel\u001b[0m\u001b[0;34m,\u001b[0m \u001b[0merrors\u001b[0m\u001b[0;34m=\u001b[0m\u001b[0merrors\u001b[0m\u001b[0;34m)\u001b[0m\u001b[0;34m\u001b[0m\u001b[0m\n\u001b[1;32m   2561\u001b[0m             \u001b[0;32melse\u001b[0m\u001b[0;34m:\u001b[0m\u001b[0;34m\u001b[0m\u001b[0m\n\u001b[0;32m-> 2562\u001b[0;31m                 \u001b[0mnew_axis\u001b[0m \u001b[0;34m=\u001b[0m \u001b[0maxis\u001b[0m\u001b[0;34m.\u001b[0m\u001b[0mdrop\u001b[0m\u001b[0;34m(\u001b[0m\u001b[0mlabels\u001b[0m\u001b[0;34m,\u001b[0m \u001b[0merrors\u001b[0m\u001b[0;34m=\u001b[0m\u001b[0merrors\u001b[0m\u001b[0;34m)\u001b[0m\u001b[0;34m\u001b[0m\u001b[0m\n\u001b[0m\u001b[1;32m   2563\u001b[0m             \u001b[0mdropped\u001b[0m \u001b[0;34m=\u001b[0m \u001b[0mself\u001b[0m\u001b[0;34m.\u001b[0m\u001b[0mreindex\u001b[0m\u001b[0;34m(\u001b[0m\u001b[0;34m**\u001b[0m\u001b[0;34m{\u001b[0m\u001b[0maxis_name\u001b[0m\u001b[0;34m:\u001b[0m \u001b[0mnew_axis\u001b[0m\u001b[0;34m}\u001b[0m\u001b[0;34m)\u001b[0m\u001b[0;34m\u001b[0m\u001b[0m\n\u001b[1;32m   2564\u001b[0m             \u001b[0;32mtry\u001b[0m\u001b[0;34m:\u001b[0m\u001b[0;34m\u001b[0m\u001b[0m\n",
      "\u001b[0;32m/usr/local/lib/python3.6/site-packages/pandas/core/indexes/base.py\u001b[0m in \u001b[0;36mdrop\u001b[0;34m(self, labels, errors)\u001b[0m\n\u001b[1;32m   3739\u001b[0m             \u001b[0;32mif\u001b[0m \u001b[0merrors\u001b[0m \u001b[0;34m!=\u001b[0m \u001b[0;34m'ignore'\u001b[0m\u001b[0;34m:\u001b[0m\u001b[0;34m\u001b[0m\u001b[0m\n\u001b[1;32m   3740\u001b[0m                 raise ValueError('labels %s not contained in axis' %\n\u001b[0;32m-> 3741\u001b[0;31m                                  labels[mask])\n\u001b[0m\u001b[1;32m   3742\u001b[0m             \u001b[0mindexer\u001b[0m \u001b[0;34m=\u001b[0m \u001b[0mindexer\u001b[0m\u001b[0;34m[\u001b[0m\u001b[0;34m~\u001b[0m\u001b[0mmask\u001b[0m\u001b[0;34m]\u001b[0m\u001b[0;34m\u001b[0m\u001b[0m\n\u001b[1;32m   3743\u001b[0m         \u001b[0;32mreturn\u001b[0m \u001b[0mself\u001b[0m\u001b[0;34m.\u001b[0m\u001b[0mdelete\u001b[0m\u001b[0;34m(\u001b[0m\u001b[0mindexer\u001b[0m\u001b[0;34m)\u001b[0m\u001b[0;34m\u001b[0m\u001b[0m\n",
      "\u001b[0;31mValueError\u001b[0m: labels ['Address' 'Block' 'Street' 'AddressNumberAndStreet' 'AddressAccuracy'] not contained in axis"
     ]
    }
   ],
   "source": [
    "df_out.drop(['Address', 'Block', 'Street', 'AddressNumberAndStreet', 'AddressAccuracy'])"
   ]
  },
  {
   "cell_type": "code",
   "execution_count": 18,
   "metadata": {},
   "outputs": [
    {
     "name": "stdout",
     "output_type": "stream",
     "text": [
      "WNV_Pop_Age.csv              prediction_probabilities.csv\r\n",
      "WNV_Pop_Age_Temp.csv         processed_test.csv\r\n",
      "WNV_Pop_Age_Temp_Geog.csv    processed_train.csv\r\n",
      "\u001b[34m__pycache__\u001b[m\u001b[m                  sampleSubmission.csv\r\n",
      "census_age.csv               spray.csv\r\n",
      "census_info.csv              spray_traps.csv\r\n",
      "data-clean.ipynb             test.csv\r\n",
      "demographics.csv             train.csv\r\n",
      "distance-mapping.ipynb       weather.csv\r\n",
      "kaggle_submission.csv        zip_codes.csv\r\n",
      "model_data.csv\r\n"
     ]
    }
   ],
   "source": [
    "! ls ../data/"
   ]
  },
  {
   "cell_type": "code",
   "execution_count": null,
   "metadata": {},
   "outputs": [],
   "source": [
    "wnv_years = []\n",
    "for i in range(2002,2017):\n",
    "    wnv_years.append(str(i))\n",
    "    \n",
    "wnv_cases = [635, 20, 23, 135, 29, 23, 9, 1, 30, 22, 174, 60, np.NaN, 27, 90]\n",
    "wnv_deaths = [42, 1, 2, 6, np.NaN, 0, 0, 0, 1, 1, 5, 7, np.NaN, 0, 0]\n",
    "\n",
    "wnv_casedeaths = pd.DataFrame({\"Year\": wnv_years, \"Cases\": wnv_cases, \"Deaths\" : wnv_deaths})\n",
    "wnv_casedeaths"
   ]
  },
  {
   "cell_type": "code",
   "execution_count": null,
   "metadata": {},
   "outputs": [],
   "source": []
  }
 ],
 "metadata": {
  "kernelspec": {
   "display_name": "Python 3",
   "language": "python",
   "name": "python3"
  },
  "language_info": {
   "codemirror_mode": {
    "name": "ipython",
    "version": 3
   },
   "file_extension": ".py",
   "mimetype": "text/x-python",
   "name": "python",
   "nbconvert_exporter": "python",
   "pygments_lexer": "ipython3",
   "version": "3.6.3"
  }
 },
 "nbformat": 4,
 "nbformat_minor": 2
}

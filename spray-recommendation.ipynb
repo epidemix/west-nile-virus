{
 "cells": [
  {
   "cell_type": "markdown",
   "metadata": {},
   "source": [
    "Prediction Model Data"
   ]
  },
  {
   "cell_type": "code",
   "execution_count": 1,
   "metadata": {},
   "outputs": [
    {
     "name": "stderr",
     "output_type": "stream",
     "text": [
      "/usr/local/Cellar/python3/3.6.3/Frameworks/Python.framework/Versions/3.6/lib/python3.6/importlib/_bootstrap.py:219: ImportWarning: can't resolve package from __spec__ or __package__, falling back on __name__ and __path__\n",
      "  return f(*args, **kwds)\n"
     ]
    }
   ],
   "source": [
    "import pandas as pd\n",
    "import numpy as np\n",
    "\n",
    "pd.set_option('display.max_columns', None)\n"
   ]
  },
  {
   "cell_type": "code",
   "execution_count": 2,
   "metadata": {},
   "outputs": [],
   "source": [
    "def get_lags(data, x, lag, f=None):\n",
    "    lag_avg = pd.DataFrame(data[x])\n",
    "\n",
    "    def assign_na(x):\n",
    "        try:\n",
    "            y = np.float64(x)\n",
    "        except:\n",
    "            y = np.NaN\n",
    "        return y\n",
    "\n",
    "    lag_avg[x] = lag_avg[x].apply(assign_na)\n",
    "\n",
    "    for i in range(1, lag):\n",
    "        lag_avg['lag_{}'.format(i)] = lag_avg[x].copy().shift(i)\n",
    "\n",
    "    ten_day_avg = []\n",
    "    for i, row in lag_avg.iterrows():\n",
    "        if f == 'sum':\n",
    "            ten_day_avg.append(row.sum(skipna=True))\n",
    "        else:\n",
    "            ten_day_avg.append(row.mean(skipna=True))\n",
    "\n",
    "    return pd.Series(ten_day_avg)"
   ]
  },
  {
   "cell_type": "code",
   "execution_count": 3,
   "metadata": {},
   "outputs": [],
   "source": [
    "spray_cost = 5200  # per square mile\n",
    "hospitalization_cost = 13810  # total acute medical care \"Initial and Long-Term Costs of Patients Hospitalized with WNV Disease\n",
    "\n",
    "hospitalization_rate = .49\n",
    "\n",
    "chicago_total_cost = 425000"
   ]
  },
  {
   "cell_type": "code",
   "execution_count": 4,
   "metadata": {},
   "outputs": [
    {
     "data": {
      "text/plain": [
       "(10506, 12)"
      ]
     },
     "execution_count": 4,
     "metadata": {},
     "output_type": "execute_result"
    }
   ],
   "source": [
    "df_in = pd.read_csv('data/train.csv')\n",
    "\n",
    "df_in.shape"
   ]
  },
  {
   "cell_type": "code",
   "execution_count": 5,
   "metadata": {},
   "outputs": [],
   "source": [
    "zip_codes = pd.read_csv('data/WNV_Pop_Age.csv')\n",
    "\n",
    "zip_codes = zip_codes[['Trap', 'ZipCode']].rename(columns={'Trap': 'trap', 'ZipCode': 'zip_code'})"
   ]
  },
  {
   "cell_type": "code",
   "execution_count": 6,
   "metadata": {},
   "outputs": [],
   "source": [
    "df_out = df_in.join(zip_codes)"
   ]
  },
  {
   "cell_type": "code",
   "execution_count": 7,
   "metadata": {},
   "outputs": [
    {
     "data": {
      "text/html": [
       "<div>\n",
       "<style scoped>\n",
       "    .dataframe tbody tr th:only-of-type {\n",
       "        vertical-align: middle;\n",
       "    }\n",
       "\n",
       "    .dataframe tbody tr th {\n",
       "        vertical-align: top;\n",
       "    }\n",
       "\n",
       "    .dataframe thead th {\n",
       "        text-align: right;\n",
       "    }\n",
       "</style>\n",
       "<table border=\"1\" class=\"dataframe\">\n",
       "  <thead>\n",
       "    <tr style=\"text-align: right;\">\n",
       "      <th></th>\n",
       "      <th>Date</th>\n",
       "      <th>Address</th>\n",
       "      <th>Species</th>\n",
       "      <th>Block</th>\n",
       "      <th>Street</th>\n",
       "      <th>Trap</th>\n",
       "      <th>AddressNumberAndStreet</th>\n",
       "      <th>Latitude</th>\n",
       "      <th>Longitude</th>\n",
       "      <th>AddressAccuracy</th>\n",
       "      <th>NumMosquitos</th>\n",
       "      <th>WnvPresent</th>\n",
       "      <th>trap</th>\n",
       "      <th>zip_code</th>\n",
       "    </tr>\n",
       "  </thead>\n",
       "  <tbody>\n",
       "    <tr>\n",
       "      <th>0</th>\n",
       "      <td>2007-05-29</td>\n",
       "      <td>4100 North Oak Park Avenue, Chicago, IL 60634,...</td>\n",
       "      <td>CULEX PIPIENS/RESTUANS</td>\n",
       "      <td>41</td>\n",
       "      <td>N OAK PARK AVE</td>\n",
       "      <td>T002</td>\n",
       "      <td>4100  N OAK PARK AVE, Chicago, IL</td>\n",
       "      <td>41.95469</td>\n",
       "      <td>-87.800991</td>\n",
       "      <td>9</td>\n",
       "      <td>1</td>\n",
       "      <td>0</td>\n",
       "      <td>T002</td>\n",
       "      <td>60634</td>\n",
       "    </tr>\n",
       "  </tbody>\n",
       "</table>\n",
       "</div>"
      ],
      "text/plain": [
       "         Date                                            Address  \\\n",
       "0  2007-05-29  4100 North Oak Park Avenue, Chicago, IL 60634,...   \n",
       "\n",
       "                  Species  Block           Street  Trap  \\\n",
       "0  CULEX PIPIENS/RESTUANS     41   N OAK PARK AVE  T002   \n",
       "\n",
       "              AddressNumberAndStreet  Latitude  Longitude  AddressAccuracy  \\\n",
       "0  4100  N OAK PARK AVE, Chicago, IL  41.95469 -87.800991                9   \n",
       "\n",
       "   NumMosquitos  WnvPresent  trap  zip_code  \n",
       "0             1           0  T002     60634  "
      ]
     },
     "execution_count": 7,
     "metadata": {},
     "output_type": "execute_result"
    }
   ],
   "source": [
    "df_out.head(1)"
   ]
  },
  {
   "cell_type": "code",
   "execution_count": 8,
   "metadata": {},
   "outputs": [],
   "source": [
    "demographics = pd.read_csv('data/demographics.csv').drop('Unnamed: 0', axis=1)"
   ]
  },
  {
   "cell_type": "code",
   "execution_count": 9,
   "metadata": {},
   "outputs": [
    {
     "data": {
      "text/html": [
       "<div>\n",
       "<style scoped>\n",
       "    .dataframe tbody tr th:only-of-type {\n",
       "        vertical-align: middle;\n",
       "    }\n",
       "\n",
       "    .dataframe tbody tr th {\n",
       "        vertical-align: top;\n",
       "    }\n",
       "\n",
       "    .dataframe thead th {\n",
       "        text-align: right;\n",
       "    }\n",
       "</style>\n",
       "<table border=\"1\" class=\"dataframe\">\n",
       "  <thead>\n",
       "    <tr style=\"text-align: right;\">\n",
       "      <th></th>\n",
       "      <th>zip_code</th>\n",
       "      <th>percent_employed</th>\n",
       "      <th>percent_no_health</th>\n",
       "      <th>percent_public_health</th>\n",
       "      <th>total_population</th>\n",
       "      <th>population_porportion</th>\n",
       "      <th>percent_age_over_65</th>\n",
       "      <th>percent_age_under_14</th>\n",
       "      <th>percent_low_income</th>\n",
       "    </tr>\n",
       "  </thead>\n",
       "  <tbody>\n",
       "    <tr>\n",
       "      <th>0</th>\n",
       "      <td>60002</td>\n",
       "      <td>69.500000</td>\n",
       "      <td>9.4</td>\n",
       "      <td>22.400000</td>\n",
       "      <td>24250.0</td>\n",
       "      <td>0.001887</td>\n",
       "      <td>12.000000</td>\n",
       "      <td>19.299999</td>\n",
       "      <td>8.7</td>\n",
       "    </tr>\n",
       "    <tr>\n",
       "      <th>1</th>\n",
       "      <td>60004</td>\n",
       "      <td>68.000000</td>\n",
       "      <td>8.7</td>\n",
       "      <td>22.600000</td>\n",
       "      <td>49957.0</td>\n",
       "      <td>0.003888</td>\n",
       "      <td>17.100000</td>\n",
       "      <td>18.000000</td>\n",
       "      <td>4.3</td>\n",
       "    </tr>\n",
       "    <tr>\n",
       "      <th>2</th>\n",
       "      <td>60005</td>\n",
       "      <td>68.199997</td>\n",
       "      <td>10.6</td>\n",
       "      <td>23.600000</td>\n",
       "      <td>30931.0</td>\n",
       "      <td>0.002407</td>\n",
       "      <td>16.100000</td>\n",
       "      <td>19.400002</td>\n",
       "      <td>7.2</td>\n",
       "    </tr>\n",
       "    <tr>\n",
       "      <th>3</th>\n",
       "      <td>60007</td>\n",
       "      <td>70.199997</td>\n",
       "      <td>8.7</td>\n",
       "      <td>22.100000</td>\n",
       "      <td>33973.0</td>\n",
       "      <td>0.002644</td>\n",
       "      <td>14.900001</td>\n",
       "      <td>16.000000</td>\n",
       "      <td>5.6</td>\n",
       "    </tr>\n",
       "    <tr>\n",
       "      <th>4</th>\n",
       "      <td>60008</td>\n",
       "      <td>69.599998</td>\n",
       "      <td>19.5</td>\n",
       "      <td>26.200001</td>\n",
       "      <td>22302.0</td>\n",
       "      <td>0.001735</td>\n",
       "      <td>12.700000</td>\n",
       "      <td>19.500000</td>\n",
       "      <td>8.9</td>\n",
       "    </tr>\n",
       "  </tbody>\n",
       "</table>\n",
       "</div>"
      ],
      "text/plain": [
       "   zip_code  percent_employed  percent_no_health  percent_public_health  \\\n",
       "0     60002         69.500000                9.4              22.400000   \n",
       "1     60004         68.000000                8.7              22.600000   \n",
       "2     60005         68.199997               10.6              23.600000   \n",
       "3     60007         70.199997                8.7              22.100000   \n",
       "4     60008         69.599998               19.5              26.200001   \n",
       "\n",
       "   total_population  population_porportion  percent_age_over_65  \\\n",
       "0           24250.0               0.001887            12.000000   \n",
       "1           49957.0               0.003888            17.100000   \n",
       "2           30931.0               0.002407            16.100000   \n",
       "3           33973.0               0.002644            14.900001   \n",
       "4           22302.0               0.001735            12.700000   \n",
       "\n",
       "   percent_age_under_14  percent_low_income  \n",
       "0             19.299999                 8.7  \n",
       "1             18.000000                 4.3  \n",
       "2             19.400002                 7.2  \n",
       "3             16.000000                 5.6  \n",
       "4             19.500000                 8.9  "
      ]
     },
     "execution_count": 9,
     "metadata": {},
     "output_type": "execute_result"
    }
   ],
   "source": [
    "demographics.head()"
   ]
  },
  {
   "cell_type": "code",
   "execution_count": 10,
   "metadata": {},
   "outputs": [],
   "source": [
    "dfsss = df_out.merge(demographics, on=['zip_code'])\n",
    "\n",
    "dfsss.drop('trap', axis=1, inplace=True)\n",
    "\n",
    "to_drop = ['Address', 'Species', 'Block', 'Street', 'AddressNumberAndStreet', 'AddressAccuracy', 'WnvPresent', 'Trap']\n",
    "\n",
    "dfsss = dfsss.drop(to_drop, axis=1);"
   ]
  },
  {
   "cell_type": "code",
   "execution_count": 11,
   "metadata": {},
   "outputs": [
    {
     "data": {
      "text/html": [
       "<div>\n",
       "<style scoped>\n",
       "    .dataframe tbody tr th:only-of-type {\n",
       "        vertical-align: middle;\n",
       "    }\n",
       "\n",
       "    .dataframe tbody tr th {\n",
       "        vertical-align: top;\n",
       "    }\n",
       "\n",
       "    .dataframe thead th {\n",
       "        text-align: right;\n",
       "    }\n",
       "</style>\n",
       "<table border=\"1\" class=\"dataframe\">\n",
       "  <thead>\n",
       "    <tr style=\"text-align: right;\">\n",
       "      <th></th>\n",
       "      <th>Date</th>\n",
       "      <th>Latitude</th>\n",
       "      <th>Longitude</th>\n",
       "      <th>NumMosquitos</th>\n",
       "      <th>zip_code</th>\n",
       "      <th>percent_employed</th>\n",
       "      <th>percent_no_health</th>\n",
       "      <th>percent_public_health</th>\n",
       "      <th>total_population</th>\n",
       "      <th>population_porportion</th>\n",
       "      <th>percent_age_over_65</th>\n",
       "      <th>percent_age_under_14</th>\n",
       "      <th>percent_low_income</th>\n",
       "    </tr>\n",
       "  </thead>\n",
       "  <tbody>\n",
       "    <tr>\n",
       "      <th>0</th>\n",
       "      <td>2007-05-29</td>\n",
       "      <td>41.95469</td>\n",
       "      <td>-87.800991</td>\n",
       "      <td>1</td>\n",
       "      <td>60634</td>\n",
       "      <td>68.0</td>\n",
       "      <td>21.9</td>\n",
       "      <td>29.9</td>\n",
       "      <td>72718.0</td>\n",
       "      <td>0.005659</td>\n",
       "      <td>12.799999</td>\n",
       "      <td>17.200001</td>\n",
       "      <td>10.5</td>\n",
       "    </tr>\n",
       "  </tbody>\n",
       "</table>\n",
       "</div>"
      ],
      "text/plain": [
       "         Date  Latitude  Longitude  NumMosquitos  zip_code  percent_employed  \\\n",
       "0  2007-05-29  41.95469 -87.800991             1     60634              68.0   \n",
       "\n",
       "   percent_no_health  percent_public_health  total_population  \\\n",
       "0               21.9                   29.9           72718.0   \n",
       "\n",
       "   population_porportion  percent_age_over_65  percent_age_under_14  \\\n",
       "0               0.005659            12.799999             17.200001   \n",
       "\n",
       "   percent_low_income  \n",
       "0                10.5  "
      ]
     },
     "execution_count": 11,
     "metadata": {},
     "output_type": "execute_result"
    }
   ],
   "source": [
    "dfsss.head(1)"
   ]
  },
  {
   "cell_type": "code",
   "execution_count": 12,
   "metadata": {},
   "outputs": [],
   "source": [
    "geo = pd.read_csv('data/WNV_Pop_Age_Temp_Geog.csv')\n",
    "geo = geo[['ZipCode', 'LandArea', 'WaterArea']]\n",
    "geo = geo.groupby('ZipCode').mean().reset_index().rename(columns={'ZipCode': 'zip_code'})"
   ]
  },
  {
   "cell_type": "code",
   "execution_count": 13,
   "metadata": {},
   "outputs": [
    {
     "data": {
      "text/html": [
       "<div>\n",
       "<style scoped>\n",
       "    .dataframe tbody tr th:only-of-type {\n",
       "        vertical-align: middle;\n",
       "    }\n",
       "\n",
       "    .dataframe tbody tr th {\n",
       "        vertical-align: top;\n",
       "    }\n",
       "\n",
       "    .dataframe thead th {\n",
       "        text-align: right;\n",
       "    }\n",
       "</style>\n",
       "<table border=\"1\" class=\"dataframe\">\n",
       "  <thead>\n",
       "    <tr style=\"text-align: right;\">\n",
       "      <th></th>\n",
       "      <th>zip_code</th>\n",
       "      <th>LandArea</th>\n",
       "      <th>WaterArea</th>\n",
       "    </tr>\n",
       "  </thead>\n",
       "  <tbody>\n",
       "    <tr>\n",
       "      <th>0</th>\n",
       "      <td>60018</td>\n",
       "      <td>16.3</td>\n",
       "      <td>0.3</td>\n",
       "    </tr>\n",
       "    <tr>\n",
       "      <th>1</th>\n",
       "      <td>60106</td>\n",
       "      <td>9.0</td>\n",
       "      <td>0.1</td>\n",
       "    </tr>\n",
       "    <tr>\n",
       "      <th>2</th>\n",
       "      <td>60605</td>\n",
       "      <td>1.2</td>\n",
       "      <td>0.8</td>\n",
       "    </tr>\n",
       "    <tr>\n",
       "      <th>3</th>\n",
       "      <td>60607</td>\n",
       "      <td>2.3</td>\n",
       "      <td>0.0</td>\n",
       "    </tr>\n",
       "    <tr>\n",
       "      <th>4</th>\n",
       "      <td>60608</td>\n",
       "      <td>6.4</td>\n",
       "      <td>0.2</td>\n",
       "    </tr>\n",
       "  </tbody>\n",
       "</table>\n",
       "</div>"
      ],
      "text/plain": [
       "   zip_code  LandArea  WaterArea\n",
       "0     60018      16.3        0.3\n",
       "1     60106       9.0        0.1\n",
       "2     60605       1.2        0.8\n",
       "3     60607       2.3        0.0\n",
       "4     60608       6.4        0.2"
      ]
     },
     "execution_count": 13,
     "metadata": {},
     "output_type": "execute_result"
    }
   ],
   "source": [
    "geo.head()"
   ]
  },
  {
   "cell_type": "code",
   "execution_count": 14,
   "metadata": {},
   "outputs": [],
   "source": [
    "dfsss = dfsss.merge(geo, on='zip_code')\n",
    "\n",
    "dfsss.rename(columns={'LandArea': 'land_area', 'WaterArea': 'water_area'}, inplace=True)"
   ]
  },
  {
   "cell_type": "code",
   "execution_count": 15,
   "metadata": {},
   "outputs": [
    {
     "data": {
      "text/html": [
       "<div>\n",
       "<style scoped>\n",
       "    .dataframe tbody tr th:only-of-type {\n",
       "        vertical-align: middle;\n",
       "    }\n",
       "\n",
       "    .dataframe tbody tr th {\n",
       "        vertical-align: top;\n",
       "    }\n",
       "\n",
       "    .dataframe thead th {\n",
       "        text-align: right;\n",
       "    }\n",
       "</style>\n",
       "<table border=\"1\" class=\"dataframe\">\n",
       "  <thead>\n",
       "    <tr style=\"text-align: right;\">\n",
       "      <th></th>\n",
       "      <th>Date</th>\n",
       "      <th>Latitude</th>\n",
       "      <th>Longitude</th>\n",
       "      <th>NumMosquitos</th>\n",
       "      <th>zip_code</th>\n",
       "      <th>percent_employed</th>\n",
       "      <th>percent_no_health</th>\n",
       "      <th>percent_public_health</th>\n",
       "      <th>total_population</th>\n",
       "      <th>population_porportion</th>\n",
       "      <th>percent_age_over_65</th>\n",
       "      <th>percent_age_under_14</th>\n",
       "      <th>percent_low_income</th>\n",
       "      <th>land_area</th>\n",
       "      <th>water_area</th>\n",
       "    </tr>\n",
       "  </thead>\n",
       "  <tbody>\n",
       "    <tr>\n",
       "      <th>0</th>\n",
       "      <td>2007-05-29</td>\n",
       "      <td>41.95469</td>\n",
       "      <td>-87.800991</td>\n",
       "      <td>1</td>\n",
       "      <td>60634</td>\n",
       "      <td>68.0</td>\n",
       "      <td>21.9</td>\n",
       "      <td>29.9</td>\n",
       "      <td>72718.0</td>\n",
       "      <td>0.005659</td>\n",
       "      <td>12.799999</td>\n",
       "      <td>17.200001</td>\n",
       "      <td>10.5</td>\n",
       "      <td>7.1</td>\n",
       "      <td>0.0</td>\n",
       "    </tr>\n",
       "    <tr>\n",
       "      <th>1</th>\n",
       "      <td>2007-05-29</td>\n",
       "      <td>41.95469</td>\n",
       "      <td>-87.800991</td>\n",
       "      <td>1</td>\n",
       "      <td>60634</td>\n",
       "      <td>68.0</td>\n",
       "      <td>21.9</td>\n",
       "      <td>29.9</td>\n",
       "      <td>72718.0</td>\n",
       "      <td>0.005659</td>\n",
       "      <td>12.799999</td>\n",
       "      <td>17.200001</td>\n",
       "      <td>10.5</td>\n",
       "      <td>7.1</td>\n",
       "      <td>0.0</td>\n",
       "    </tr>\n",
       "    <tr>\n",
       "      <th>2</th>\n",
       "      <td>2007-06-05</td>\n",
       "      <td>41.95469</td>\n",
       "      <td>-87.800991</td>\n",
       "      <td>3</td>\n",
       "      <td>60634</td>\n",
       "      <td>68.0</td>\n",
       "      <td>21.9</td>\n",
       "      <td>29.9</td>\n",
       "      <td>72718.0</td>\n",
       "      <td>0.005659</td>\n",
       "      <td>12.799999</td>\n",
       "      <td>17.200001</td>\n",
       "      <td>10.5</td>\n",
       "      <td>7.1</td>\n",
       "      <td>0.0</td>\n",
       "    </tr>\n",
       "    <tr>\n",
       "      <th>3</th>\n",
       "      <td>2007-06-05</td>\n",
       "      <td>41.95469</td>\n",
       "      <td>-87.800991</td>\n",
       "      <td>5</td>\n",
       "      <td>60634</td>\n",
       "      <td>68.0</td>\n",
       "      <td>21.9</td>\n",
       "      <td>29.9</td>\n",
       "      <td>72718.0</td>\n",
       "      <td>0.005659</td>\n",
       "      <td>12.799999</td>\n",
       "      <td>17.200001</td>\n",
       "      <td>10.5</td>\n",
       "      <td>7.1</td>\n",
       "      <td>0.0</td>\n",
       "    </tr>\n",
       "    <tr>\n",
       "      <th>4</th>\n",
       "      <td>2007-06-05</td>\n",
       "      <td>41.95469</td>\n",
       "      <td>-87.800991</td>\n",
       "      <td>1</td>\n",
       "      <td>60634</td>\n",
       "      <td>68.0</td>\n",
       "      <td>21.9</td>\n",
       "      <td>29.9</td>\n",
       "      <td>72718.0</td>\n",
       "      <td>0.005659</td>\n",
       "      <td>12.799999</td>\n",
       "      <td>17.200001</td>\n",
       "      <td>10.5</td>\n",
       "      <td>7.1</td>\n",
       "      <td>0.0</td>\n",
       "    </tr>\n",
       "  </tbody>\n",
       "</table>\n",
       "</div>"
      ],
      "text/plain": [
       "         Date  Latitude  Longitude  NumMosquitos  zip_code  percent_employed  \\\n",
       "0  2007-05-29  41.95469 -87.800991             1     60634              68.0   \n",
       "1  2007-05-29  41.95469 -87.800991             1     60634              68.0   \n",
       "2  2007-06-05  41.95469 -87.800991             3     60634              68.0   \n",
       "3  2007-06-05  41.95469 -87.800991             5     60634              68.0   \n",
       "4  2007-06-05  41.95469 -87.800991             1     60634              68.0   \n",
       "\n",
       "   percent_no_health  percent_public_health  total_population  \\\n",
       "0               21.9                   29.9           72718.0   \n",
       "1               21.9                   29.9           72718.0   \n",
       "2               21.9                   29.9           72718.0   \n",
       "3               21.9                   29.9           72718.0   \n",
       "4               21.9                   29.9           72718.0   \n",
       "\n",
       "   population_porportion  percent_age_over_65  percent_age_under_14  \\\n",
       "0               0.005659            12.799999             17.200001   \n",
       "1               0.005659            12.799999             17.200001   \n",
       "2               0.005659            12.799999             17.200001   \n",
       "3               0.005659            12.799999             17.200001   \n",
       "4               0.005659            12.799999             17.200001   \n",
       "\n",
       "   percent_low_income  land_area  water_area  \n",
       "0                10.5        7.1         0.0  \n",
       "1                10.5        7.1         0.0  \n",
       "2                10.5        7.1         0.0  \n",
       "3                10.5        7.1         0.0  \n",
       "4                10.5        7.1         0.0  "
      ]
     },
     "execution_count": 15,
     "metadata": {},
     "output_type": "execute_result"
    }
   ],
   "source": [
    "dfsss.head()"
   ]
  },
  {
   "cell_type": "code",
   "execution_count": 16,
   "metadata": {},
   "outputs": [],
   "source": [
    "to_sum = dfsss[['Date', 'zip_code', 'NumMosquitos']]\n",
    "\n",
    "summed = to_sum.groupby(['Date', 'zip_code']).sum().reset_index()"
   ]
  },
  {
   "cell_type": "code",
   "execution_count": 17,
   "metadata": {},
   "outputs": [],
   "source": [
    "to_mean = dfsss[['Date', 'zip_code', 'Latitude', 'Longitude']]\n",
    "\n",
    "meaned = to_mean.groupby(['Date', 'zip_code']).mean().reset_index()"
   ]
  },
  {
   "cell_type": "code",
   "execution_count": 18,
   "metadata": {},
   "outputs": [],
   "source": [
    "df = meaned.merge(summed, on=['Date', 'zip_code'])\n",
    "df = df.merge(dfsss, on=['Date', 'zip_code'], how='left')\n",
    "df = df.drop(['Latitude_y', 'Longitude_y', 'NumMosquitos_y'], axis=1)\n",
    "df = df.rename(columns={'Date': 'date', 'Latitude_x': 'latitude', 'Longitude_x': 'longitude', 'NumMosquitos_x': 'num_mosquitos'})\n",
    "\n",
    "df['date'] = pd.to_datetime(df['date'])\n",
    "df['year'] = df['date'].dt.year\n",
    "df['week'] = df['date'].apply(lambda x: x.isocalendar()[1])"
   ]
  },
  {
   "cell_type": "code",
   "execution_count": 19,
   "metadata": {},
   "outputs": [
    {
     "data": {
      "text/html": [
       "<div>\n",
       "<style scoped>\n",
       "    .dataframe tbody tr th:only-of-type {\n",
       "        vertical-align: middle;\n",
       "    }\n",
       "\n",
       "    .dataframe tbody tr th {\n",
       "        vertical-align: top;\n",
       "    }\n",
       "\n",
       "    .dataframe thead th {\n",
       "        text-align: right;\n",
       "    }\n",
       "</style>\n",
       "<table border=\"1\" class=\"dataframe\">\n",
       "  <thead>\n",
       "    <tr style=\"text-align: right;\">\n",
       "      <th></th>\n",
       "      <th>date</th>\n",
       "      <th>zip_code</th>\n",
       "      <th>latitude</th>\n",
       "      <th>longitude</th>\n",
       "      <th>num_mosquitos</th>\n",
       "      <th>percent_employed</th>\n",
       "      <th>percent_no_health</th>\n",
       "      <th>percent_public_health</th>\n",
       "      <th>total_population</th>\n",
       "      <th>population_porportion</th>\n",
       "      <th>percent_age_over_65</th>\n",
       "      <th>percent_age_under_14</th>\n",
       "      <th>percent_low_income</th>\n",
       "      <th>land_area</th>\n",
       "      <th>water_area</th>\n",
       "      <th>year</th>\n",
       "      <th>week</th>\n",
       "    </tr>\n",
       "  </thead>\n",
       "  <tbody>\n",
       "    <tr>\n",
       "      <th>0</th>\n",
       "      <td>2007-05-29</td>\n",
       "      <td>60608</td>\n",
       "      <td>41.865503</td>\n",
       "      <td>-87.652436</td>\n",
       "      <td>4</td>\n",
       "      <td>60.900002</td>\n",
       "      <td>29.5</td>\n",
       "      <td>36.099998</td>\n",
       "      <td>78794.0</td>\n",
       "      <td>0.006132</td>\n",
       "      <td>7.7</td>\n",
       "      <td>18.400002</td>\n",
       "      <td>19.5</td>\n",
       "      <td>6.4</td>\n",
       "      <td>0.2</td>\n",
       "      <td>2007</td>\n",
       "      <td>22</td>\n",
       "    </tr>\n",
       "    <tr>\n",
       "      <th>1</th>\n",
       "      <td>2007-05-29</td>\n",
       "      <td>60608</td>\n",
       "      <td>41.865503</td>\n",
       "      <td>-87.652436</td>\n",
       "      <td>4</td>\n",
       "      <td>60.900002</td>\n",
       "      <td>29.5</td>\n",
       "      <td>36.099998</td>\n",
       "      <td>78794.0</td>\n",
       "      <td>0.006132</td>\n",
       "      <td>7.7</td>\n",
       "      <td>18.400002</td>\n",
       "      <td>19.5</td>\n",
       "      <td>6.4</td>\n",
       "      <td>0.2</td>\n",
       "      <td>2007</td>\n",
       "      <td>22</td>\n",
       "    </tr>\n",
       "    <tr>\n",
       "      <th>2</th>\n",
       "      <td>2007-05-29</td>\n",
       "      <td>60608</td>\n",
       "      <td>41.865503</td>\n",
       "      <td>-87.652436</td>\n",
       "      <td>4</td>\n",
       "      <td>60.900002</td>\n",
       "      <td>29.5</td>\n",
       "      <td>36.099998</td>\n",
       "      <td>78794.0</td>\n",
       "      <td>0.006132</td>\n",
       "      <td>7.7</td>\n",
       "      <td>18.400002</td>\n",
       "      <td>19.5</td>\n",
       "      <td>6.4</td>\n",
       "      <td>0.2</td>\n",
       "      <td>2007</td>\n",
       "      <td>22</td>\n",
       "    </tr>\n",
       "  </tbody>\n",
       "</table>\n",
       "</div>"
      ],
      "text/plain": [
       "        date  zip_code   latitude  longitude  num_mosquitos  percent_employed  \\\n",
       "0 2007-05-29     60608  41.865503 -87.652436              4         60.900002   \n",
       "1 2007-05-29     60608  41.865503 -87.652436              4         60.900002   \n",
       "2 2007-05-29     60608  41.865503 -87.652436              4         60.900002   \n",
       "\n",
       "   percent_no_health  percent_public_health  total_population  \\\n",
       "0               29.5              36.099998           78794.0   \n",
       "1               29.5              36.099998           78794.0   \n",
       "2               29.5              36.099998           78794.0   \n",
       "\n",
       "   population_porportion  percent_age_over_65  percent_age_under_14  \\\n",
       "0               0.006132                  7.7             18.400002   \n",
       "1               0.006132                  7.7             18.400002   \n",
       "2               0.006132                  7.7             18.400002   \n",
       "\n",
       "   percent_low_income  land_area  water_area  year  week  \n",
       "0                19.5        6.4         0.2  2007    22  \n",
       "1                19.5        6.4         0.2  2007    22  \n",
       "2                19.5        6.4         0.2  2007    22  "
      ]
     },
     "execution_count": 19,
     "metadata": {},
     "output_type": "execute_result"
    }
   ],
   "source": [
    "df.head(3)"
   ]
  },
  {
   "cell_type": "code",
   "execution_count": 20,
   "metadata": {},
   "outputs": [],
   "source": [
    "wnv_years = []\n",
    "for i in range(2002,2017):\n",
    "    wnv_years.append(str(i))\n",
    "wnv_cases = [635, 20, 23, 135, 29, 23, 9, 1, 30, 22, 174, 60, np.NaN, 27, 90]\n",
    "wnv_deaths = [42, 1, 2, 6, np.NaN, 0, 0, 0, 1, 1, 5, 7, np.NaN, 0, 0]\n",
    "\n",
    "deaths = pd.DataFrame({\"Year\": wnv_years, \"Cases\": wnv_cases, \"Deaths\" : wnv_deaths})\n",
    "deaths = deaths.set_index('Year')\n",
    "deaths = deaths.shift(1).reset_index()\n",
    "deaths = deaths.rename(columns={'Year': 'year', 'Cases': 'averaged_cases', 'Deaths': 'averaged_deaths'})\n",
    "deaths['year'] = deaths['year'].astype(np.int64)\n"
   ]
  },
  {
   "cell_type": "code",
   "execution_count": 21,
   "metadata": {},
   "outputs": [],
   "source": [
    "deaths['averaged_cases'] = get_lags(deaths, 'averaged_cases', 5, np.mean)\n",
    "deaths['averaged_deaths'] = get_lags(deaths, 'averaged_deaths', 5, np.mean)"
   ]
  },
  {
   "cell_type": "code",
   "execution_count": 22,
   "metadata": {},
   "outputs": [],
   "source": [
    "df = df.merge(deaths, on='year')\n"
   ]
  },
  {
   "cell_type": "code",
   "execution_count": 23,
   "metadata": {},
   "outputs": [
    {
     "data": {
      "text/html": [
       "<div>\n",
       "<style scoped>\n",
       "    .dataframe tbody tr th:only-of-type {\n",
       "        vertical-align: middle;\n",
       "    }\n",
       "\n",
       "    .dataframe tbody tr th {\n",
       "        vertical-align: top;\n",
       "    }\n",
       "\n",
       "    .dataframe thead th {\n",
       "        text-align: right;\n",
       "    }\n",
       "</style>\n",
       "<table border=\"1\" class=\"dataframe\">\n",
       "  <thead>\n",
       "    <tr style=\"text-align: right;\">\n",
       "      <th></th>\n",
       "      <th>date</th>\n",
       "      <th>zip_code</th>\n",
       "      <th>latitude</th>\n",
       "      <th>longitude</th>\n",
       "      <th>num_mosquitos</th>\n",
       "      <th>percent_employed</th>\n",
       "      <th>percent_no_health</th>\n",
       "      <th>percent_public_health</th>\n",
       "      <th>total_population</th>\n",
       "      <th>population_porportion</th>\n",
       "      <th>percent_age_over_65</th>\n",
       "      <th>percent_age_under_14</th>\n",
       "      <th>percent_low_income</th>\n",
       "      <th>land_area</th>\n",
       "      <th>water_area</th>\n",
       "      <th>year</th>\n",
       "      <th>week</th>\n",
       "      <th>averaged_cases</th>\n",
       "      <th>averaged_deaths</th>\n",
       "    </tr>\n",
       "  </thead>\n",
       "  <tbody>\n",
       "    <tr>\n",
       "      <th>0</th>\n",
       "      <td>2007-05-29</td>\n",
       "      <td>60608</td>\n",
       "      <td>41.865503</td>\n",
       "      <td>-87.652436</td>\n",
       "      <td>4</td>\n",
       "      <td>60.900002</td>\n",
       "      <td>29.5</td>\n",
       "      <td>36.099998</td>\n",
       "      <td>78794.0</td>\n",
       "      <td>0.006132</td>\n",
       "      <td>7.7</td>\n",
       "      <td>18.400002</td>\n",
       "      <td>19.5</td>\n",
       "      <td>6.4</td>\n",
       "      <td>0.2</td>\n",
       "      <td>2007</td>\n",
       "      <td>22</td>\n",
       "      <td>168.4</td>\n",
       "      <td>12.75</td>\n",
       "    </tr>\n",
       "  </tbody>\n",
       "</table>\n",
       "</div>"
      ],
      "text/plain": [
       "        date  zip_code   latitude  longitude  num_mosquitos  percent_employed  \\\n",
       "0 2007-05-29     60608  41.865503 -87.652436              4         60.900002   \n",
       "\n",
       "   percent_no_health  percent_public_health  total_population  \\\n",
       "0               29.5              36.099998           78794.0   \n",
       "\n",
       "   population_porportion  percent_age_over_65  percent_age_under_14  \\\n",
       "0               0.006132                  7.7             18.400002   \n",
       "\n",
       "   percent_low_income  land_area  water_area  year  week  averaged_cases  \\\n",
       "0                19.5        6.4         0.2  2007    22           168.4   \n",
       "\n",
       "   averaged_deaths  \n",
       "0            12.75  "
      ]
     },
     "execution_count": 23,
     "metadata": {},
     "output_type": "execute_result"
    }
   ],
   "source": [
    "df.head(1)"
   ]
  },
  {
   "cell_type": "code",
   "execution_count": 24,
   "metadata": {},
   "outputs": [],
   "source": [
    "df['at_risk_population_percent'] = df['percent_age_over_65'] + df['percent_age_under_14']\n",
    "df['at_risk_population'] = df['at_risk_population_percent']/100 * df['total_population'] \n",
    "\n",
    "df['proportional_averaged_cases'] = df['population_porportion'] * df['averaged_cases']\n",
    "df['proportional_averaged_deaths'] = df['population_porportion'] * df['averaged_deaths']\n",
    "\n",
    "\n",
    "df['high_risk_infection_percent'] = df['averaged_cases'] * df['at_risk_population_percent']/100"
   ]
  },
  {
   "cell_type": "code",
   "execution_count": 25,
   "metadata": {},
   "outputs": [],
   "source": [
    "df = df.groupby(['date', 'zip_code']).mean().reset_index()"
   ]
  },
  {
   "cell_type": "code",
   "execution_count": 26,
   "metadata": {},
   "outputs": [],
   "source": [
    "to_drop = ['percent_employed', 'percent_no_health', 'percent_public_health',\n",
    "           'percent_age_over_65', 'percent_age_under_14', 'percent_low_income']\n",
    "\n",
    "df = df.drop(to_drop, axis=1)"
   ]
  },
  {
   "cell_type": "code",
   "execution_count": 27,
   "metadata": {},
   "outputs": [],
   "source": [
    "predictions = pd.read_csv('data/prediction_probabilities.csv')\n",
    "predictions['Id'] -= 1\n",
    "predictions = predictions.set_index('Id')"
   ]
  },
  {
   "cell_type": "code",
   "execution_count": 28,
   "metadata": {},
   "outputs": [],
   "source": [
    "df = df.join(predictions)"
   ]
  },
  {
   "cell_type": "code",
   "execution_count": 29,
   "metadata": {},
   "outputs": [],
   "source": [
    "# Estimate Costs...\n",
    "\n",
    "df['cost_to_spray'] = spray_cost * df['land_area']"
   ]
  },
  {
   "cell_type": "code",
   "execution_count": 30,
   "metadata": {},
   "outputs": [
    {
     "data": {
      "text/html": [
       "<div>\n",
       "<style scoped>\n",
       "    .dataframe tbody tr th:only-of-type {\n",
       "        vertical-align: middle;\n",
       "    }\n",
       "\n",
       "    .dataframe tbody tr th {\n",
       "        vertical-align: top;\n",
       "    }\n",
       "\n",
       "    .dataframe thead th {\n",
       "        text-align: right;\n",
       "    }\n",
       "</style>\n",
       "<table border=\"1\" class=\"dataframe\">\n",
       "  <thead>\n",
       "    <tr style=\"text-align: right;\">\n",
       "      <th></th>\n",
       "      <th>date</th>\n",
       "      <th>zip_code</th>\n",
       "      <th>latitude</th>\n",
       "      <th>longitude</th>\n",
       "      <th>num_mosquitos</th>\n",
       "      <th>total_population</th>\n",
       "      <th>population_porportion</th>\n",
       "      <th>land_area</th>\n",
       "      <th>water_area</th>\n",
       "      <th>year</th>\n",
       "      <th>week</th>\n",
       "      <th>averaged_cases</th>\n",
       "      <th>averaged_deaths</th>\n",
       "      <th>at_risk_population_percent</th>\n",
       "      <th>at_risk_population</th>\n",
       "      <th>proportional_averaged_cases</th>\n",
       "      <th>proportional_averaged_deaths</th>\n",
       "      <th>high_risk_infection_percent</th>\n",
       "      <th>wnv_probablitiy</th>\n",
       "      <th>cost_to_spray</th>\n",
       "    </tr>\n",
       "  </thead>\n",
       "  <tbody>\n",
       "    <tr>\n",
       "      <th>1989</th>\n",
       "      <td>2013-06-07</td>\n",
       "      <td>60018</td>\n",
       "      <td>41.992478</td>\n",
       "      <td>-87.862995</td>\n",
       "      <td>16</td>\n",
       "      <td>28749.0</td>\n",
       "      <td>0.002237</td>\n",
       "      <td>16.3</td>\n",
       "      <td>0.3</td>\n",
       "      <td>2013</td>\n",
       "      <td>23</td>\n",
       "      <td>47.2</td>\n",
       "      <td>1.4</td>\n",
       "      <td>33.000000</td>\n",
       "      <td>9487.170000</td>\n",
       "      <td>0.105595</td>\n",
       "      <td>0.003132</td>\n",
       "      <td>15.576000</td>\n",
       "      <td>0.357962</td>\n",
       "      <td>84760.0</td>\n",
       "    </tr>\n",
       "    <tr>\n",
       "      <th>1990</th>\n",
       "      <td>2013-06-07</td>\n",
       "      <td>60106</td>\n",
       "      <td>41.957799</td>\n",
       "      <td>-87.930995</td>\n",
       "      <td>32</td>\n",
       "      <td>20276.0</td>\n",
       "      <td>0.001578</td>\n",
       "      <td>9.0</td>\n",
       "      <td>0.1</td>\n",
       "      <td>2013</td>\n",
       "      <td>23</td>\n",
       "      <td>47.2</td>\n",
       "      <td>1.4</td>\n",
       "      <td>31.100000</td>\n",
       "      <td>6305.836077</td>\n",
       "      <td>0.074474</td>\n",
       "      <td>0.002209</td>\n",
       "      <td>14.679200</td>\n",
       "      <td>0.357962</td>\n",
       "      <td>46800.0</td>\n",
       "    </tr>\n",
       "    <tr>\n",
       "      <th>1991</th>\n",
       "      <td>2013-06-07</td>\n",
       "      <td>60608</td>\n",
       "      <td>41.867108</td>\n",
       "      <td>-87.654224</td>\n",
       "      <td>2</td>\n",
       "      <td>78794.0</td>\n",
       "      <td>0.006132</td>\n",
       "      <td>6.4</td>\n",
       "      <td>0.2</td>\n",
       "      <td>2013</td>\n",
       "      <td>23</td>\n",
       "      <td>47.2</td>\n",
       "      <td>1.4</td>\n",
       "      <td>26.100002</td>\n",
       "      <td>20565.235428</td>\n",
       "      <td>0.289410</td>\n",
       "      <td>0.008584</td>\n",
       "      <td>12.319201</td>\n",
       "      <td>0.357962</td>\n",
       "      <td>33280.0</td>\n",
       "    </tr>\n",
       "    <tr>\n",
       "      <th>1992</th>\n",
       "      <td>2013-06-07</td>\n",
       "      <td>60609</td>\n",
       "      <td>41.812418</td>\n",
       "      <td>-87.663779</td>\n",
       "      <td>13</td>\n",
       "      <td>62773.0</td>\n",
       "      <td>0.004885</td>\n",
       "      <td>7.8</td>\n",
       "      <td>0.0</td>\n",
       "      <td>2013</td>\n",
       "      <td>23</td>\n",
       "      <td>47.2</td>\n",
       "      <td>1.4</td>\n",
       "      <td>31.899998</td>\n",
       "      <td>20024.585863</td>\n",
       "      <td>0.230565</td>\n",
       "      <td>0.006839</td>\n",
       "      <td>15.056799</td>\n",
       "      <td>0.357962</td>\n",
       "      <td>40560.0</td>\n",
       "    </tr>\n",
       "    <tr>\n",
       "      <th>1993</th>\n",
       "      <td>2013-06-07</td>\n",
       "      <td>60612</td>\n",
       "      <td>41.868142</td>\n",
       "      <td>-87.696269</td>\n",
       "      <td>2</td>\n",
       "      <td>36052.0</td>\n",
       "      <td>0.002805</td>\n",
       "      <td>3.7</td>\n",
       "      <td>0.0</td>\n",
       "      <td>2013</td>\n",
       "      <td>23</td>\n",
       "      <td>47.2</td>\n",
       "      <td>1.4</td>\n",
       "      <td>29.700000</td>\n",
       "      <td>10707.443931</td>\n",
       "      <td>0.132419</td>\n",
       "      <td>0.003928</td>\n",
       "      <td>14.018400</td>\n",
       "      <td>0.331111</td>\n",
       "      <td>19240.0</td>\n",
       "    </tr>\n",
       "  </tbody>\n",
       "</table>\n",
       "</div>"
      ],
      "text/plain": [
       "           date  zip_code   latitude  longitude  num_mosquitos  \\\n",
       "1989 2013-06-07     60018  41.992478 -87.862995             16   \n",
       "1990 2013-06-07     60106  41.957799 -87.930995             32   \n",
       "1991 2013-06-07     60608  41.867108 -87.654224              2   \n",
       "1992 2013-06-07     60609  41.812418 -87.663779             13   \n",
       "1993 2013-06-07     60612  41.868142 -87.696269              2   \n",
       "\n",
       "      total_population  population_porportion  land_area  water_area  year  \\\n",
       "1989           28749.0               0.002237       16.3         0.3  2013   \n",
       "1990           20276.0               0.001578        9.0         0.1  2013   \n",
       "1991           78794.0               0.006132        6.4         0.2  2013   \n",
       "1992           62773.0               0.004885        7.8         0.0  2013   \n",
       "1993           36052.0               0.002805        3.7         0.0  2013   \n",
       "\n",
       "      week  averaged_cases  averaged_deaths  at_risk_population_percent  \\\n",
       "1989    23            47.2              1.4                   33.000000   \n",
       "1990    23            47.2              1.4                   31.100000   \n",
       "1991    23            47.2              1.4                   26.100002   \n",
       "1992    23            47.2              1.4                   31.899998   \n",
       "1993    23            47.2              1.4                   29.700000   \n",
       "\n",
       "      at_risk_population  proportional_averaged_cases  \\\n",
       "1989         9487.170000                     0.105595   \n",
       "1990         6305.836077                     0.074474   \n",
       "1991        20565.235428                     0.289410   \n",
       "1992        20024.585863                     0.230565   \n",
       "1993        10707.443931                     0.132419   \n",
       "\n",
       "      proportional_averaged_deaths  high_risk_infection_percent  \\\n",
       "1989                      0.003132                    15.576000   \n",
       "1990                      0.002209                    14.679200   \n",
       "1991                      0.008584                    12.319201   \n",
       "1992                      0.006839                    15.056799   \n",
       "1993                      0.003928                    14.018400   \n",
       "\n",
       "      wnv_probablitiy  cost_to_spray  \n",
       "1989         0.357962        84760.0  \n",
       "1990         0.357962        46800.0  \n",
       "1991         0.357962        33280.0  \n",
       "1992         0.357962        40560.0  \n",
       "1993         0.331111        19240.0  "
      ]
     },
     "execution_count": 30,
     "metadata": {},
     "output_type": "execute_result"
    }
   ],
   "source": [
    "df[(df['year'] == 2013) & (df['week'] == 23)].head()"
   ]
  },
  {
   "cell_type": "code",
   "execution_count": 31,
   "metadata": {},
   "outputs": [
    {
     "data": {
      "text/plain": [
       "70458439.99999994"
      ]
     },
     "execution_count": 31,
     "metadata": {},
     "output_type": "execute_result"
    }
   ],
   "source": [
    "# If we sprayed everywhere, every week....\n",
    "\n",
    "df['cost_to_spray'].sum()"
   ]
  },
  {
   "cell_type": "code",
   "execution_count": 32,
   "metadata": {},
   "outputs": [
    {
     "data": {
      "text/plain": [
       "20"
      ]
     },
     "execution_count": 32,
     "metadata": {},
     "output_type": "execute_result"
    }
   ],
   "source": [
    "df['week'].nunique()"
   ]
  },
  {
   "cell_type": "code",
   "execution_count": null,
   "metadata": {},
   "outputs": [],
   "source": []
  },
  {
   "cell_type": "code",
   "execution_count": 33,
   "metadata": {},
   "outputs": [],
   "source": [
    "df['spray_metric'] = df['wnv_probablitiy'] * df['at_risk_population'] / df['cost_to_spray']"
   ]
  },
  {
   "cell_type": "code",
   "execution_count": 34,
   "metadata": {},
   "outputs": [],
   "source": [
    "df.to_csv('data/recommendation_data.csv')"
   ]
  },
  {
   "cell_type": "code",
   "execution_count": 35,
   "metadata": {},
   "outputs": [
    {
     "name": "stdout",
     "output_type": "stream",
     "text": [
      "0.1 14725880.0\n",
      "0.2 9628840.0\n",
      "0.3 4669600.0\n",
      "0.4 1664520.0\n",
      "0.5 279240.0\n",
      "0.6 nan\n",
      "0.7 nan\n",
      "0.8 nan\n",
      "0.9 nan\n",
      "1.0 nan\n"
     ]
    }
   ],
   "source": [
    "df_work = df[(df['year'] == 2013)]\n",
    "df_work['spray_metric'].describe()\n",
    "\n",
    "for i in range(1, 11):\n",
    "    print(i/10, df_work[df_work['spray_metric'] > i/10]['cost_to_spray'].sum())\n"
   ]
  },
  {
   "cell_type": "code",
   "execution_count": 36,
   "metadata": {},
   "outputs": [
    {
     "data": {
      "text/plain": [
       "358800.00000000023"
      ]
     },
     "execution_count": 36,
     "metadata": {},
     "output_type": "execute_result"
    }
   ],
   "source": [
    "# Agressive Spraying\n",
    "df_work[df_work['spray_metric'] > 0.48]['cost_to_spray'].sum()"
   ]
  },
  {
   "cell_type": "code",
   "execution_count": 37,
   "metadata": {},
   "outputs": [
    {
     "data": {
      "text/plain": [
       "69.000000000000043"
      ]
     },
     "execution_count": 37,
     "metadata": {},
     "output_type": "execute_result"
    }
   ],
   "source": [
    "df_work[df_work['spray_metric'] > 0.48]['land_area'].sum()"
   ]
  },
  {
   "cell_type": "code",
   "execution_count": 38,
   "metadata": {},
   "outputs": [],
   "source": [
    "df_work[df_work['spray_metric'] > 0.48];"
   ]
  },
  {
   "cell_type": "code",
   "execution_count": 39,
   "metadata": {},
   "outputs": [
    {
     "data": {
      "text/plain": [
       "279240.00000000017"
      ]
     },
     "execution_count": 39,
     "metadata": {},
     "output_type": "execute_result"
    }
   ],
   "source": [
    "# Moderate Spraying\n",
    "df_work[df_work['spray_metric'] > 0.5]['cost_to_spray'].sum()"
   ]
  },
  {
   "cell_type": "code",
   "execution_count": 40,
   "metadata": {},
   "outputs": [
    {
     "data": {
      "text/plain": [
       "53.700000000000031"
      ]
     },
     "execution_count": 40,
     "metadata": {},
     "output_type": "execute_result"
    }
   ],
   "source": [
    "df_work[df_work['spray_metric'] > 0.5]['land_area'].sum()"
   ]
  },
  {
   "cell_type": "code",
   "execution_count": 41,
   "metadata": {},
   "outputs": [],
   "source": [
    "df_work[df_work['spray_metric'] > 0.5];"
   ]
  },
  {
   "cell_type": "code",
   "execution_count": 42,
   "metadata": {},
   "outputs": [
    {
     "data": {
      "text/plain": [
       "126359.99999999999"
      ]
     },
     "execution_count": 42,
     "metadata": {},
     "output_type": "execute_result"
    }
   ],
   "source": [
    "# Conservative Spraying\n",
    "df_work[df_work['spray_metric'] > 0.52]['cost_to_spray'].sum()"
   ]
  },
  {
   "cell_type": "code",
   "execution_count": 43,
   "metadata": {},
   "outputs": [
    {
     "data": {
      "text/plain": [
       "24.299999999999986"
      ]
     },
     "execution_count": 43,
     "metadata": {},
     "output_type": "execute_result"
    }
   ],
   "source": [
    "df_work[df_work['spray_metric'] > 0.52]['land_area'].sum()"
   ]
  },
  {
   "cell_type": "code",
   "execution_count": 44,
   "metadata": {},
   "outputs": [],
   "source": [
    "df_work[df_work['spray_metric'] > 0.52];"
   ]
  },
  {
   "cell_type": "code",
   "execution_count": null,
   "metadata": {},
   "outputs": [],
   "source": []
  }
 ],
 "metadata": {
  "kernelspec": {
   "display_name": "Python 3",
   "language": "python",
   "name": "python3"
  },
  "language_info": {
   "codemirror_mode": {
    "name": "ipython",
    "version": 3
   },
   "file_extension": ".py",
   "mimetype": "text/x-python",
   "name": "python",
   "nbconvert_exporter": "python",
   "pygments_lexer": "ipython3",
   "version": "3.6.3"
  }
 },
 "nbformat": 4,
 "nbformat_minor": 2
}
